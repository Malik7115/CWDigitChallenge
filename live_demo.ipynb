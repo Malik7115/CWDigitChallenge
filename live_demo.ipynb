{
 "cells": [
  {
   "cell_type": "code",
   "execution_count": null,
   "id": "935c38a2",
   "metadata": {},
   "outputs": [],
   "source": [
    "from record import VADRecorder\n",
    "import librosa\n",
    "import torch\n",
    "from models import MFCC1DCNN\n",
    "import numpy as np\n",
    "\n",
    "import warnings\n",
    "warnings.filterwarnings(\"ignore\")\n",
    "\n",
    "import os, sys, warnings\n",
    "\n",
    "# Suppress ALSA errors\n",
    "def suppress_alsa_errors():\n",
    "    sys.stderr = open(os.devnull, 'w')\n",
    "\n",
    "def restore_stderr():\n",
    "    sys.stderr = sys.__stderr__\n",
    "\n",
    "suppress_alsa_errors()"
   ]
  },
  {
   "cell_type": "code",
   "execution_count": null,
   "id": "2345f2b0",
   "metadata": {},
   "outputs": [],
   "source": [
    "n_features = 15\n",
    "model_path = 'logs/best-cnn-mfcc/checkpoints/last.ckpt'"
   ]
  },
  {
   "cell_type": "code",
   "execution_count": null,
   "id": "e8a365d6",
   "metadata": {},
   "outputs": [],
   "source": [
    "def to_mfcc(y, n_features = None):\n",
    "    assert n_features is not None, \"specify n_mfcc\"\n",
    "    # Compute MFCC\n",
    "    mfcc = librosa.feature.mfcc(\n",
    "        y = y,\n",
    "        sr=8000,\n",
    "        n_mfcc=n_features,\n",
    "        n_fft=256,\n",
    "        hop_length=80,\n",
    "        n_mels=40,   \n",
    "        fmin=20,\n",
    "        fmax=8000//2\n",
    "    )\n",
    "    return mfcc \n",
    "\n",
    "\n",
    "\n",
    "\n",
    "device = torch.device('cpu')\n",
    "model = MFCC1DCNN(n_mfcc=n_features)\n",
    "checkpoint = torch.load(model_path, map_location='cpu')\n",
    "\n",
    "if 'state_dict' in checkpoint:\n",
    "# Lightning checkpoint\n",
    "    state_dict = {k.replace('model.', ''): v for k, v in checkpoint['state_dict'].items()}\n",
    "    model.load_state_dict(state_dict)\n",
    "else:\n",
    "    model.load_state_dict(checkpoint)\n",
    "\n",
    "model.to(device)\n",
    "model.eval()"
   ]
  },
  {
   "cell_type": "markdown",
   "id": "45c140b4",
   "metadata": {},
   "source": [
    "# Live Mic Demo\n",
    "\n",
    "run the cell to initiate the recording. Once preditction is complete rerun again for new recording and prediction\n",
    "for best performance, preferably speak right after you are prompted to speak....."
   ]
  },
  {
   "cell_type": "code",
   "execution_count": null,
   "id": "13bf1d3a",
   "metadata": {},
   "outputs": [],
   "source": [
    "rec = VADRecorder(aggressiveness=2)\n",
    "\n",
    "audio_array = rec.record()     # blocks until you finish speaking\n",
    "print(\"Recorded NumPy shape:\", audio_array.shape)\n",
    "\n",
    "rec.save(\"output.wav\", audio_array)  # optional\n",
    "rec.close()\n",
    "audio_array = audio_array.astype(np.float32) / 32768.0\n",
    "\n",
    "mfcc = to_mfcc(audio_array, n_features)\n",
    "mfcc = torch.tensor(mfcc[None,:]).float()\n",
    "with torch.no_grad():\n",
    "    logits = model(mfcc)\n",
    "    pred = torch.argmax(logits, dim=1).item()\n",
    "    \n",
    "print(\"Predicted Digit: \", pred)"
   ]
  },
  {
   "cell_type": "code",
   "execution_count": null,
   "id": "493723c6",
   "metadata": {},
   "outputs": [],
   "source": []
  }
 ],
 "metadata": {
  "kernelspec": {
   "display_name": "dl",
   "language": "python",
   "name": "python3"
  },
  "language_info": {
   "codemirror_mode": {
    "name": "ipython",
    "version": 3
   },
   "file_extension": ".py",
   "mimetype": "text/x-python",
   "name": "python",
   "nbconvert_exporter": "python",
   "pygments_lexer": "ipython3",
   "version": "3.10.18"
  }
 },
 "nbformat": 4,
 "nbformat_minor": 5
}
